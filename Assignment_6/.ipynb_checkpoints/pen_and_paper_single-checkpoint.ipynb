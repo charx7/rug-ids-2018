{
 "cells": [
  {
   "cell_type": "code",
   "execution_count": 20,
   "metadata": {},
   "outputs": [],
   "source": [
    "matrix_distance_step0 = [\n",
    "    ['',  'p1', 'p2', 'p3', 'p4', 'p5'],\n",
    "    ['p1', 0.0,  0.9,  0.6,  0.5,  0.7],\n",
    "    ['p2', 0.9,  0.0,  0.4,  0.6,  0.1],\n",
    "    ['p3', 0.6,  0.4,  0.0,  0.6,  0.2],\n",
    "    ['p4', 0.5,  0.6,  0.6,  0.0,  0.3],\n",
    "    ['p5', 0.7,  0.1,  0.2,  0.3,  0.0]\n",
    "]"
   ]
  },
  {
   "cell_type": "markdown",
   "metadata": {},
   "source": [
    "# Single linkage clustering\n"
   ]
  },
  {
   "cell_type": "markdown",
   "metadata": {},
   "source": [
    "The first 2 closest clusters are p2 and p5 (0.1).\n",
    "\n",
    "So we merge them, creating a new cluster p2-p5, with the shortest distance from p2 and p5."
   ]
  },
  {
   "cell_type": "code",
   "execution_count": 21,
   "metadata": {
    "scrolled": true
   },
   "outputs": [],
   "source": [
    "matrix_distance_step1 = [\n",
    "    ['',     'p1', 'p3', 'p4', 'p2-p5'],\n",
    "    ['p1',    0.0,  0.6,  0.5,     0.7],\n",
    "    ['p3',    0.6,  0.0,  0.6,     0.2],\n",
    "    ['p4',    0.5,  0.6,  0.0,     0.3],\n",
    "    ['p2-p5', 0.7,  0.2,  0.3,     0.0]\n",
    "]"
   ]
  },
  {
   "cell_type": "markdown",
   "metadata": {},
   "source": [
    "The next 2 closest clusters are p3 and p2-p5 (0.2).\n",
    "\n",
    "So we merge them, creating a new cluster p2-p3-p5, with the shortest distance from p3 and p2-p5."
   ]
  },
  {
   "cell_type": "code",
   "execution_count": 22,
   "metadata": {},
   "outputs": [],
   "source": [
    "matrix_distance_step2 = [\n",
    "    ['',        'p1', 'p4', 'p2-p3-p5'],\n",
    "    ['p1',       0.0,  0.5,        0.6],\n",
    "    ['p4',       0.5,  0.0,        0.3],\n",
    "    ['p2-p3-p5', 0.6,  0.3,        0.0]\n",
    "]"
   ]
  },
  {
   "cell_type": "markdown",
   "metadata": {},
   "source": [
    "The next 2 closest clusters are p4 and p2-p3-p5 (0.3).\n",
    "\n",
    "So we merge them, creating a new cluster p2-p3-p4-p5, with the shortest distance from p4 and p2-p3-p5."
   ]
  },
  {
   "cell_type": "code",
   "execution_count": 23,
   "metadata": {},
   "outputs": [],
   "source": [
    "matrix_distance_step3 = [\n",
    "    ['',           'p1', 'p2-p3-p4-p5'],\n",
    "    ['p1',          0.0,           0.5],\n",
    "    ['p2-p3-p4-p5', 0.5,           0.0]\n",
    "]"
   ]
  },
  {
   "cell_type": "markdown",
   "metadata": {},
   "source": [
    "The next 2 closest clusters are p1 and p2-p3-p4-p5 (0.5).\n",
    "\n",
    "So we merge them, creating a new cluster p1-p2-p3-p4-p5, with the shortest distance from p1 and p2-p3-p4-p5."
   ]
  },
  {
   "cell_type": "code",
   "execution_count": 24,
   "metadata": {},
   "outputs": [],
   "source": [
    "matrix_distance_step4 = [\n",
    "    ['',               'p1-p2-p3-p4-p5'],\n",
    "    ['p1-p2-p3-p4-p5',              0.0]\n",
    "]"
   ]
  },
  {
   "cell_type": "code",
   "execution_count": null,
   "metadata": {},
   "outputs": [],
   "source": []
  }
 ],
 "metadata": {
  "kernelspec": {
   "display_name": "Python 3",
   "language": "python",
   "name": "python3"
  },
  "language_info": {
   "codemirror_mode": {
    "name": "ipython",
    "version": 3
   },
   "file_extension": ".py",
   "mimetype": "text/x-python",
   "name": "python",
   "nbconvert_exporter": "python",
   "pygments_lexer": "ipython3",
   "version": "3.6.5"
  }
 },
 "nbformat": 4,
 "nbformat_minor": 2
}
