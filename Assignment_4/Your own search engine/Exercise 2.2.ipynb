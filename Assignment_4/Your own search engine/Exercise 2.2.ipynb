{
 "cells": [
  {
   "cell_type": "code",
   "execution_count": 1,
   "metadata": {},
   "outputs": [
    {
     "name": "stdout",
     "output_type": "stream",
     "text": [
      "[nltk_data] Downloading package punkt to\n",
      "[nltk_data]     C:\\Users\\Daan\\AppData\\Roaming\\nltk_data...\n",
      "[nltk_data]   Package punkt is already up-to-date!\n",
      "[nltk_data] Downloading package state_union to\n",
      "[nltk_data]     C:\\Users\\Daan\\AppData\\Roaming\\nltk_data...\n",
      "[nltk_data]   Package state_union is already up-to-date!\n"
     ]
    },
    {
     "data": {
      "text/plain": [
       "True"
      ]
     },
     "execution_count": 1,
     "metadata": {},
     "output_type": "execute_result"
    }
   ],
   "source": [
    "# NLTK imports\n",
    "import nltk\n",
    "from nltk.corpus import webtext\n",
    "from nltk.corpus import state_union\n",
    "from nltk import FreqDist\n",
    "import numpy as np\n",
    "nltk.download('punkt')\n",
    "nltk.download('state_union')"
   ]
  },
  {
   "cell_type": "code",
   "execution_count": 2,
   "metadata": {},
   "outputs": [],
   "source": [
    "# Tokenize\n",
    "from nltk import word_tokenize\n",
    "wordsTruman = word_tokenize(state_union.raw('1945-truman.txt'))\n",
    "wordsNixon = word_tokenize(state_union.raw('1974-Nixon.txt'))\n",
    "wordsGWBush = word_tokenize(state_union.raw('2002-GWBush.txt'))\n",
    "\n",
    "# Clean words\n",
    "def text_preprocessor(words):\n",
    "    cleanedWords = []\n",
    "    for word in words:\n",
    "        if word.lower() not in [\n",
    "                \",\",\n",
    "                \".\",\n",
    "                \"``\",\n",
    "                \"''\",\n",
    "                \";\",\n",
    "                \"?\",\n",
    "                \"--\",\n",
    "                \")\",\n",
    "                \"(\",\n",
    "                \":\",\n",
    "                \"!\",\n",
    "                \"applause\"\n",
    "            ] and len(word) > 4:\n",
    "                cleanedWords.append(word.lower())\n",
    "    return cleanedWords\n",
    "\n",
    "# Apply cleaner\n",
    "cleanedWordsTruman = text_preprocessor(wordsTruman)\n",
    "cleanedWordsNixon = text_preprocessor(wordsNixon)\n",
    "cleanedWordsGWBush = text_preprocessor(wordsGWBush)"
   ]
  },
  {
   "cell_type": "code",
   "execution_count": 3,
   "metadata": {},
   "outputs": [
    {
     "name": "stdout",
     "output_type": "stream",
     "text": [
      "Truman: \n",
      "\n",
      "[('world', 20), ('peace', 19), ('nations', 12), ('america', 11), ('people', 10), ('united', 8), ('freedom', 7), ('never', 7), ('great', 6), ('which', 6)]\n",
      "\n",
      "\n",
      "\n",
      "Nixon: \n",
      "\n",
      "[('years', 39), ('america', 27), ('which', 27), ('peace', 26), ('congress', 21), ('people', 20), ('american', 20), ('world', 19), ('those', 17), ('energy', 17)]\n",
      "\n",
      "\n",
      "\n",
      "GWBush: \n",
      "\n",
      "[('america', 33), ('world', 19), ('security', 19), ('these', 18), ('their', 17), ('american', 15), ('people', 14), ('terror', 14), ('freedom', 14), ('afghanistan', 13)]\n",
      "\n",
      "\n",
      "\n"
     ]
    }
   ],
   "source": [
    "# Frequency Distribution\n",
    "fdistTruman = FreqDist(cleanedWordsTruman)\n",
    "fdistNixon = FreqDist(cleanedWordsNixon)\n",
    "fdistGWBush = FreqDist(cleanedWordsGWBush)\n",
    "\n",
    "# Display data\n",
    "print (\"Truman: \\n\")\n",
    "print (fdistTruman.most_common(10))\n",
    "print (\"\\n\\n\")\n",
    "print (\"Nixon: \\n\")\n",
    "print (fdistNixon.most_common(10))\n",
    "print (\"\\n\\n\")\n",
    "print (\"GWBush: \\n\")\n",
    "print (fdistGWBush.most_common(10))\n",
    "print (\"\\n\\n\")"
   ]
  }
 ],
 "metadata": {
  "kernelspec": {
   "display_name": "Python 3",
   "language": "python",
   "name": "python3"
  },
  "language_info": {
   "codemirror_mode": {
    "name": "ipython",
    "version": 3
   },
   "file_extension": ".py",
   "mimetype": "text/x-python",
   "name": "python",
   "nbconvert_exporter": "python",
   "pygments_lexer": "ipython3",
   "version": "3.6.5"
  }
 },
 "nbformat": 4,
 "nbformat_minor": 2
}
