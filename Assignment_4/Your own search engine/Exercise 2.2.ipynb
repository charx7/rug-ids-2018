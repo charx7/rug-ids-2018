{
 "cells": [
  {
   "cell_type": "code",
   "execution_count": 1,
   "metadata": {},
   "outputs": [
    {
     "name": "stdout",
     "output_type": "stream",
     "text": [
      "[nltk_data] Downloading package punkt to\n",
      "[nltk_data]     C:\\Users\\Daan\\AppData\\Roaming\\nltk_data...\n",
      "[nltk_data]   Package punkt is already up-to-date!\n",
      "[nltk_data] Downloading package state_union to\n",
      "[nltk_data]     C:\\Users\\Daan\\AppData\\Roaming\\nltk_data...\n",
      "[nltk_data]   Package state_union is already up-to-date!\n"
     ]
    },
    {
     "data": {
      "text/plain": [
       "True"
      ]
     },
     "execution_count": 1,
     "metadata": {},
     "output_type": "execute_result"
    }
   ],
   "source": [
    "# NLTK imports\n",
    "import nltk\n",
    "from nltk.corpus import webtext\n",
    "from nltk.corpus import state_union\n",
    "from nltk import FreqDist\n",
    "import numpy as np\n",
    "nltk.download('punkt')\n",
    "nltk.download('state_union')"
   ]
  },
  {
   "cell_type": "code",
   "execution_count": 2,
   "metadata": {},
   "outputs": [],
   "source": [
    "# Tokenize\n",
    "from nltk import word_tokenize\n",
    "wordsTruman = word_tokenize(state_union.raw('1945-truman.txt'))\n",
    "wordsNixon = word_tokenize(state_union.raw('1974-Nixon.txt'))\n",
    "wordsGWBush = word_tokenize(state_union.raw('2002-GWBush.txt'))\n",
    "\n",
    "# Clean words\n",
    "def text_preprocessor(words):\n",
    "    cleanedWords = []\n",
    "    for word in words:\n",
    "        if word.lower() not in [\n",
    "                \",\",\n",
    "                \".\",\n",
    "                \"``\",\n",
    "                \"''\",\n",
    "                \";\",\n",
    "                \"?\",\n",
    "                \"--\",\n",
    "                \")\",\n",
    "                \"(\",\n",
    "                \":\",\n",
    "                \"!\",\n",
    "                \"applause\"\n",
    "            ] and len(word) > 4:\n",
    "                cleanedWords.append(word.lower())\n",
    "    return cleanedWords\n",
    "\n",
    "# Apply cleaner\n",
    "cleanedWordsTruman = text_preprocessor(wordsTruman)\n",
    "cleanedWordsNixon = text_preprocessor(wordsNixon)\n",
    "cleanedWordsGWBush = text_preprocessor(wordsGWBush)"
   ]
  },
  {
   "cell_type": "code",
   "execution_count": 3,
   "metadata": {},
   "outputs": [
    {
     "ename": "TypeError",
     "evalue": "'<' not supported between instances of 'str' and 'list'",
     "output_type": "error",
     "traceback": [
      "\u001b[1;31m---------------------------------------------------------------------------\u001b[0m",
      "\u001b[1;31mTypeError\u001b[0m                                 Traceback (most recent call last)",
      "\u001b[1;32m<ipython-input-3-06c73bd7487f>\u001b[0m in \u001b[0;36m<module>\u001b[1;34m()\u001b[0m\n\u001b[0;32m     13\u001b[0m \u001b[1;33m\u001b[0m\u001b[0m\n\u001b[0;32m     14\u001b[0m \u001b[1;31m# Use on all the sets\u001b[0m\u001b[1;33m\u001b[0m\u001b[1;33m\u001b[0m\u001b[0m\n\u001b[1;32m---> 15\u001b[1;33m \u001b[0mrepresenter\u001b[0m\u001b[1;33m(\u001b[0m\u001b[0mcleanedWordsTruman\u001b[0m\u001b[1;33m)\u001b[0m\u001b[1;33m\u001b[0m\u001b[0m\n\u001b[0m\u001b[0;32m     16\u001b[0m \u001b[0mrepresenter\u001b[0m\u001b[1;33m(\u001b[0m\u001b[0mcleanedWordsNixon\u001b[0m\u001b[1;33m)\u001b[0m\u001b[1;33m\u001b[0m\u001b[0m\n\u001b[0;32m     17\u001b[0m \u001b[0mrepresenter\u001b[0m\u001b[1;33m(\u001b[0m\u001b[0mcleanedWordsGWBush\u001b[0m\u001b[1;33m)\u001b[0m\u001b[1;33m\u001b[0m\u001b[0m\n",
      "\u001b[1;32m<ipython-input-3-06c73bd7487f>\u001b[0m in \u001b[0;36mrepresenter\u001b[1;34m(words)\u001b[0m\n\u001b[0;32m      9\u001b[0m     \u001b[0mwordArray\u001b[0m \u001b[1;33m=\u001b[0m \u001b[0mnp\u001b[0m\u001b[1;33m.\u001b[0m\u001b[0masarray\u001b[0m\u001b[1;33m(\u001b[0m\u001b[0mvectorizer\u001b[0m\u001b[1;33m.\u001b[0m\u001b[0mget_feature_names\u001b[0m\u001b[1;33m(\u001b[0m\u001b[1;33m)\u001b[0m\u001b[1;33m)\u001b[0m\u001b[1;33m\u001b[0m\u001b[0m\n\u001b[0;32m     10\u001b[0m     \u001b[0mtotalArray\u001b[0m \u001b[1;33m=\u001b[0m \u001b[1;33m[\u001b[0m\u001b[0mscoreArray\u001b[0m\u001b[1;33m.\u001b[0m\u001b[0mtolist\u001b[0m\u001b[1;33m(\u001b[0m\u001b[1;33m)\u001b[0m\u001b[1;33m,\u001b[0m \u001b[0mwordArray\u001b[0m\u001b[1;33m.\u001b[0m\u001b[0mtolist\u001b[0m\u001b[1;33m(\u001b[0m\u001b[1;33m)\u001b[0m\u001b[1;33m]\u001b[0m\u001b[1;33m\u001b[0m\u001b[0m\n\u001b[1;32m---> 11\u001b[1;33m     \u001b[0msorted\u001b[0m\u001b[1;33m(\u001b[0m\u001b[0mtotalArray\u001b[0m\u001b[1;33m,\u001b[0m\u001b[0mkey\u001b[0m\u001b[1;33m=\u001b[0m\u001b[0mitemgetter\u001b[0m\u001b[1;33m(\u001b[0m\u001b[1;36m0\u001b[0m\u001b[1;33m)\u001b[0m\u001b[1;33m)\u001b[0m\u001b[1;33m\u001b[0m\u001b[0m\n\u001b[0m\u001b[0;32m     12\u001b[0m     \u001b[0mprint\u001b[0m \u001b[1;33m(\u001b[0m\u001b[0mtotalArray\u001b[0m\u001b[1;33m)\u001b[0m\u001b[1;33m\u001b[0m\u001b[0m\n\u001b[0;32m     13\u001b[0m \u001b[1;33m\u001b[0m\u001b[0m\n",
      "\u001b[1;31mTypeError\u001b[0m: '<' not supported between instances of 'str' and 'list'"
     ]
    }
   ],
   "source": [
    "# Use vectorizer for representation\n",
    "from sklearn.feature_extraction.text import TfidfVectorizer\n",
    "from operator import itemgetter\n",
    "\n",
    "def representer(words):   \n",
    "    vectorizer = TfidfVectorizer(min_df=1, stop_words=\"english\",norm=None)\n",
    "    X = vectorizer.fit_transform(words)\n",
    "    scoreArray = X.toarray()\n",
    "    wordArray = np.asarray(vectorizer.get_feature_names()) \n",
    "    totalArray = [scoreArray.tolist(), wordArray.tolist()]\n",
    "    \n",
    "    # sorting doesn't work yet :\\\n",
    "    sorted(totalArray,key=itemgetter(0))\n",
    "    \n",
    "    print (totalArray)\n",
    "                \n",
    "# Use on all the sets\n",
    "representer(cleanedWordsTruman)\n",
    "representer(cleanedWordsNixon)\n",
    "representer(cleanedWordsGWBush)"
   ]
  }
 ],
 "metadata": {
  "kernelspec": {
   "display_name": "Python 3",
   "language": "python",
   "name": "python3"
  },
  "language_info": {
   "codemirror_mode": {
    "name": "ipython",
    "version": 3
   },
   "file_extension": ".py",
   "mimetype": "text/x-python",
   "name": "python",
   "nbconvert_exporter": "python",
   "pygments_lexer": "ipython3",
   "version": "3.6.5"
  }
 },
 "nbformat": 4,
 "nbformat_minor": 2
}
