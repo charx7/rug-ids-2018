{
 "cells": [
  {
   "cell_type": "code",
   "execution_count": 5,
   "metadata": {},
   "outputs": [
    {
     "name": "stdout",
     "output_type": "stream",
     "text": [
      "Im Working\n"
     ]
    }
   ],
   "source": [
    "# Check for working notebook\n",
    "print('Im Working')"
   ]
  },
  {
   "cell_type": "code",
   "execution_count": 6,
   "metadata": {},
   "outputs": [
    {
     "name": "stdout",
     "output_type": "stream",
     "text": [
      "[nltk_data] Downloading package state_union to\n",
      "[nltk_data]     C:\\Users\\Charx\\AppData\\Roaming\\nltk_data...\n",
      "[nltk_data]   Package state_union is already up-to-date!\n",
      "[nltk_data] Downloading package stopwords to\n",
      "[nltk_data]     C:\\Users\\Charx\\AppData\\Roaming\\nltk_data...\n",
      "[nltk_data]   Package stopwords is already up-to-date!\n",
      "[nltk_data] Downloading package punkt to\n",
      "[nltk_data]     C:\\Users\\Charx\\AppData\\Roaming\\nltk_data...\n",
      "[nltk_data]   Package punkt is already up-to-date!\n",
      "\n",
      "\n",
      "\n",
      "The fields are: \n",
      "['1945-Truman.txt', '1946-Truman.txt', '1947-Truman.txt', '1948-Truman.txt', '1949-Truman.txt', '1950-Truman.txt', '1951-Truman.txt', '1953-Eisenhower.txt', '1954-Eisenhower.txt', '1955-Eisenhower.txt', '1956-Eisenhower.txt', '1957-Eisenhower.txt', '1958-Eisenhower.txt', '1959-Eisenhower.txt', '1960-Eisenhower.txt', '1961-Kennedy.txt', '1962-Kennedy.txt', '1963-Johnson.txt', '1963-Kennedy.txt', '1964-Johnson.txt', '1965-Johnson-1.txt', '1965-Johnson-2.txt', '1966-Johnson.txt', '1967-Johnson.txt', '1968-Johnson.txt', '1969-Johnson.txt', '1970-Nixon.txt', '1971-Nixon.txt', '1972-Nixon.txt', '1973-Nixon.txt', '1974-Nixon.txt', '1975-Ford.txt', '1976-Ford.txt', '1977-Ford.txt', '1978-Carter.txt', '1979-Carter.txt', '1980-Carter.txt', '1981-Reagan.txt', '1982-Reagan.txt', '1983-Reagan.txt', '1984-Reagan.txt', '1985-Reagan.txt', '1986-Reagan.txt', '1987-Reagan.txt', '1988-Reagan.txt', '1989-Bush.txt', '1990-Bush.txt', '1991-Bush-1.txt', '1991-Bush-2.txt', '1992-Bush.txt', '1993-Clinton.txt', '1994-Clinton.txt', '1995-Clinton.txt', '1996-Clinton.txt', '1997-Clinton.txt', '1998-Clinton.txt', '1999-Clinton.txt', '2000-Clinton.txt', '2001-GWBush-1.txt', '2001-GWBush-2.txt', '2002-GWBush.txt', '2003-GWBush.txt', '2004-GWBush.txt', '2005-GWBush.txt', '2006-GWBush.txt']\n"
     ]
    }
   ],
   "source": [
    "# NLTK imports\n",
    "import nltk\n",
    "from nltk.corpus import webtext\n",
    "from nltk.corpus import state_union\n",
    "import numpy as np\n",
    "nltk.download('state_union')\n",
    "nltk.download('stopwords')\n",
    "nltk.download('punkt')\n",
    "\n",
    "print(\"\\n\\n\")\n",
    "print('The fields are: ')\n",
    "print(state_union.fileids())"
   ]
  },
  {
   "cell_type": "markdown",
   "metadata": {},
   "source": [
    "## Stemming\n",
    "### Using a porter tokenizer\n",
    "First we are going to be using the Porter tokenizer to compute the word frequencies we are going to be using the 2005 State of the Union speech from GW. Bush\n"
   ]
  },
  {
   "cell_type": "code",
   "execution_count": 7,
   "metadata": {
    "scrolled": true
   },
   "outputs": [
    {
     "name": "stdout",
     "output_type": "stream",
     "text": [
      "The most common stemmed words are: \n",
      "('secur', 32)\n",
      "('freedom', 21)\n",
      "('america', 20)\n",
      "('nation', 19)\n",
      "('countri', 19)\n",
      "('govern', 18)\n",
      "('peopl', 18)\n",
      "('american', 18)\n",
      "('social', 18)\n",
      "('congress', 16)\n"
     ]
    },
    {
     "data": {
      "image/png": "[encoded data removed]",
      "text/plain": [
       "<Figure size 432x288 with 1 Axes>"
      ]
     },
     "metadata": {
      "needs_background": "light"
     },
     "output_type": "display_data"
    }
   ],
   "source": [
    "# Porter Stemming\n",
    "from nltk.stem.porter import *\n",
    "from nltk import word_tokenize\n",
    "from nltk.corpus import stopwords \n",
    "\n",
    "# Set up the text to tokenize\n",
    "bushUnion = state_union.raw('2005-GWBush.txt')  \n",
    "\n",
    "# Define tokenization of the words\n",
    "words = word_tokenize(bushUnion)\n",
    "\n",
    "# Create an instance of the porter stemmer\n",
    "stemmer = PorterStemmer()\n",
    "\n",
    "# Steam the words\n",
    "stemmedwords = [stemmer.stem(word) for word in words]\n",
    "\n",
    "# Frequency distribution of the speech\n",
    "#words = [word for word in state_union.words(text)]\n",
    "#frequencies = nltk.FreqDist([w for w in words if len(w) > 4 and w.lower() == w])\n",
    "\n",
    "# Set-up remove of stop words\n",
    "stop_words = set(stopwords.words('english')) \n",
    "\n",
    "# Cleanup of the stemmed words\n",
    "cleanedStemmedWords = []\n",
    "for word in stemmedwords:\n",
    "    # Not commas periods and applause.\n",
    "    if word not in [\n",
    "            \",\",\n",
    "            \".\",\n",
    "            \"``\",\n",
    "            \"''\",\n",
    "            \";\",\n",
    "            \"?\",\n",
    "            \"--\",\n",
    "            \")\",\n",
    "            \"(\",\n",
    "            \":\",\n",
    "            \"!\",\n",
    "            \"applaus\"\n",
    "        ] and len(word) > 4 and word not in stop_words:\n",
    "            cleanedStemmedWords.append(word.lower())\n",
    "            \n",
    "# word frequencies of the not steemed document\n",
    "#frequencies = nltk.FreqDist(stemmedwords)\n",
    "\n",
    "#for e in frequencies.most_common(10):\n",
    "#    print (e)\n",
    "#frequencies.plot(10)\n",
    "\n",
    "# Perform the frequencies on the cleaned dataset\n",
    "cleanedFrequencies = nltk.FreqDist(cleanedStemmedWords)\n",
    "print('The most common stemmed words are: ')\n",
    "for e in cleanedFrequencies.most_common(10):\n",
    "    print (e)\n",
    "cleanedFrequencies.plot(10)\n"
   ]
  },
  {
   "cell_type": "markdown",
   "metadata": {},
   "source": [
    "## Zipf's law Verification\n",
    "Plot the distribution vs the rank on a log-log scale."
   ]
  },
  {
   "cell_type": "code",
   "execution_count": 8,
   "metadata": {},
   "outputs": [
    {
     "name": "stdout",
     "output_type": "stream",
     "text": [
      "Histogram of word frequencies\n"
     ]
    },
    {
     "ename": "NameError",
     "evalue": "name 'special' is not defined",
     "output_type": "error",
     "traceback": [
      "\u001b[1;31m---------------------------------------------------------------------------\u001b[0m",
      "\u001b[1;31mNameError\u001b[0m                                 Traceback (most recent call last)",
      "\u001b[1;32m<ipython-input-8-cdb9a765700a>\u001b[0m in \u001b[0;36m<module>\u001b[1;34m()\u001b[0m\n\u001b[0;32m     25\u001b[0m \u001b[0ma\u001b[0m \u001b[1;33m=\u001b[0m \u001b[1;36m1.5\u001b[0m\u001b[1;33m\u001b[0m\u001b[0m\n\u001b[0;32m     26\u001b[0m \u001b[0mx\u001b[0m \u001b[1;33m=\u001b[0m \u001b[0mnp\u001b[0m\u001b[1;33m.\u001b[0m\u001b[0marange\u001b[0m\u001b[1;33m(\u001b[0m\u001b[1;36m1.\u001b[0m\u001b[1;33m,\u001b[0m \u001b[1;36m20.\u001b[0m\u001b[1;33m)\u001b[0m\u001b[1;33m\u001b[0m\u001b[0m\n\u001b[1;32m---> 27\u001b[1;33m \u001b[0my\u001b[0m \u001b[1;33m=\u001b[0m \u001b[0mx\u001b[0m\u001b[1;33m**\u001b[0m\u001b[1;33m(\u001b[0m\u001b[1;33m-\u001b[0m\u001b[0ma\u001b[0m\u001b[1;33m)\u001b[0m \u001b[1;33m/\u001b[0m \u001b[0mspecial\u001b[0m\u001b[1;33m.\u001b[0m\u001b[0mzetac\u001b[0m\u001b[1;33m(\u001b[0m\u001b[0ma\u001b[0m\u001b[1;33m)\u001b[0m\u001b[1;33m\u001b[0m\u001b[0m\n\u001b[0m\u001b[0;32m     28\u001b[0m \u001b[0mplt\u001b[0m\u001b[1;33m.\u001b[0m\u001b[0mplot\u001b[0m\u001b[1;33m(\u001b[0m\u001b[0mx\u001b[0m\u001b[1;33m,\u001b[0m \u001b[0my\u001b[0m\u001b[1;33m,\u001b[0m \u001b[0mlinewidth\u001b[0m\u001b[1;33m=\u001b[0m\u001b[1;36m3\u001b[0m\u001b[1;33m,\u001b[0m \u001b[0mcolor\u001b[0m\u001b[1;33m=\u001b[0m\u001b[1;34m'r'\u001b[0m\u001b[1;33m)\u001b[0m\u001b[1;33m\u001b[0m\u001b[0m\n\u001b[0;32m     29\u001b[0m \u001b[1;31m# Label stuff\u001b[0m\u001b[1;33m\u001b[0m\u001b[1;33m\u001b[0m\u001b[0m\n",
      "\u001b[1;31mNameError\u001b[0m: name 'special' is not defined"
     ]
    },
    {
     "data": {
      "image/png": "[encoded data removed]",
      "text/plain": [
       "<Figure size 432x288 with 1 Axes>"
      ]
     },
     "metadata": {
      "needs_background": "light"
     },
     "output_type": "display_data"
    }
   ],
   "source": [
    "from nltk.probability import DictionaryProbDist\n",
    "import matplotlib.pyplot as plt\n",
    "\n",
    "\n",
    "# Using the log transformation\n",
    "logCleanedFrequencies = DictionaryProbDist(cleanedFrequencies)\n",
    "logCleanedFrequencies.logprob('secur')\n",
    "\n",
    "\n",
    "lenght_of_document= len(cleanedStemmedWords)\n",
    "# Empty object\n",
    "arrayFormFrequencies = []\n",
    "for key in cleanedFrequencies:\n",
    "    arrayFormFrequencies.append(cleanedFrequencies[key]) \n",
    "\n",
    "# Log of the frequencies\n",
    "logArrayFormFrequencies = np.log(arrayFormFrequencies)+1\n",
    "\n",
    "# Plot of freq\n",
    "n, bins, patches = plt.hist(arrayFormFrequencies, 20, density=True, facecolor='green', alpha=0.55)\n",
    "print('Histogram of word frequencies')\n",
    "plt.figure(1)\n",
    "\n",
    "# Zipfs law shape parameter\n",
    "a = 1.5\n",
    "x = np.arange(1., 20.)\n",
    "y = x**(-a) / special.zetac(a)\n",
    "plt.plot(x, y, linewidth=3, color='r')\n",
    "# Label stuff\n",
    "red_patch = mpatches.Patch(color='red', label='Zipfs Theoretical pdf')\n",
    "plt.legend(handles=[red_patch])\n",
    "plt.xlabel('Frequency')\n",
    "plt.ylabel('Probabiliy')\n",
    "plt.title('Histogram')\n",
    "\n",
    "plt.show()"
   ]
  },
  {
   "cell_type": "code",
   "execution_count": null,
   "metadata": {
    "scrolled": true
   },
   "outputs": [],
   "source": [
    "# Import for the zipf pmf\n",
    "from scipy.stats import zipf\n",
    "from scipy import special\n",
    "import matplotlib.patches as mpatches\n",
    "\n",
    "# Log of freq\n",
    "histogram = plt.hist(logArrayFormFrequencies, 20, density=True, facecolor='green', alpha=0.55)\n",
    "print('Log transformation of the histogram')\n",
    "\n",
    "plt.figure(1)\n",
    "\n",
    "# Zipfs law shape parameter\n",
    "a = 5\n",
    "x = np.arange(1., 10.)\n",
    "y = x**(-a) / special.zetac(a)\n",
    "plt.plot(x, np.log(y+1), linewidth=3, color='r')\n",
    "# Label stuff\n",
    "red_patch = mpatches.Patch(color='red', label='Zipfs Theoretical pdf')\n",
    "plt.legend(handles=[red_patch])\n",
    "plt.xlabel('Frequency')\n",
    "plt.ylabel('Log Probabiliy')\n",
    "plt.title('Log transformation')\n",
    "\n",
    "plt.show()\n"
   ]
  },
  {
   "cell_type": "markdown",
   "metadata": {
    "scrolled": true
   },
   "source": [
    "# Document by document check\n",
    "Now we are goint to repeat the process for term frequencies on all the documents"
   ]
  },
  {
   "cell_type": "code",
   "execution_count": null,
   "metadata": {},
   "outputs": [],
   "source": [
    "from scipy import stats  \n",
    "\n",
    "def plotFrequencies(document):\n",
    "    # Tokenization of the words\n",
    "    words = word_tokenize(document)\n",
    "    \n",
    "    # Apply the Porter transformation\n",
    "    stemmedwords = porterTransform(words)\n",
    "    \n",
    "    # Clean up the text\n",
    "    cleanedWords = cleanUp(stemmedwords)\n",
    "    \n",
    "    # Plot the frequencies\n",
    "    rawPlotFrequencies(cleanedWords)\n",
    "    \n",
    "    # Plot histogram\n",
    "    plotHistogram(cleanedWords)\n",
    "    \n",
    "    # Plot Log Histogram\n",
    "    plotLogHistogram(cleanedWords, 2.2)\n",
    "    \n",
    "# Plot Log Histogram\n",
    "def plotLogHistogram(words, zipfsShape):\n",
    "    # Get Freq\n",
    "    cleanedFrequencies = nltk.FreqDist(words)\n",
    "        \n",
    "    # Transform into an array form\n",
    "    arrayFormFrequencies = []\n",
    "    for key in cleanedFrequencies:\n",
    "        arrayFormFrequencies.append(cleanedFrequencies[key]) \n",
    "\n",
    "    # Log of the frequencies\n",
    "    logArrayFormFrequencies = np.log(arrayFormFrequencies)+1\n",
    "    \n",
    "    # Plot of freq\n",
    "    histogram = plt.hist(logArrayFormFrequencies, 10, density=True, facecolor='green', alpha=0.55)\n",
    "    print('Log-Histogram of word frequencies')\n",
    "    plt.figure(1)\n",
    "\n",
    "    # Zipfs law shape parameter\n",
    "    a = zipfsShape\n",
    "    x = np.arange(1., 10.)\n",
    "    y = x**(-a) / special.zetac(a)\n",
    "    plt.plot(x, np.log(y+1), linewidth=3, color='r')\n",
    "    # Label stuff\n",
    "    red_patch = mpatches.Patch(color='red', label='Zipfs Theoretical pdf')\n",
    "    plt.legend(handles=[red_patch])\n",
    "    plt.xlabel('Frequency')\n",
    "    plt.ylabel('Log Probabiliy')\n",
    "    plt.title('Log transformation')\n",
    "\n",
    "    plt.show()\n",
    "    \n",
    "# Plot the histogram\n",
    "def plotHistogram(words):\n",
    "    # Get Frequencies\n",
    "    cleanedFrequencies = nltk.FreqDist(words)\n",
    "\n",
    "    # Transform into an array form\n",
    "    arrayFormFrequencies = []\n",
    "    for key in cleanedFrequencies:\n",
    "        arrayFormFrequencies.append(cleanedFrequencies[key]) \n",
    "\n",
    "    # Plot of freq\n",
    "    n, bins, patches = plt.hist(arrayFormFrequencies, 20, density=True, facecolor='green', alpha=0.55)\n",
    "    print('Histogram of word frequencies')\n",
    "    plt.show()\n",
    "\n",
    "# Plot the counts\n",
    "def rawPlotFrequencies(words):\n",
    "    wordDistribution = nltk.FreqDist(words)\n",
    "    print('The most common words are: ')\n",
    "    for e in wordDistribution.most_common(10):\n",
    "        print (e)\n",
    "    wordDistribution.plot(10)\n",
    "    \n",
    "# The porter Transformation\n",
    "def porterTransform(words):\n",
    "    # Create an instance of the porter stemmer\n",
    "    stemmer = PorterStemmer()\n",
    "\n",
    "    # Steam the words\n",
    "    stemmedwords = [stemmer.stem(word) for word in words]\n",
    "    return stemmedwords\n",
    "\n",
    "# The clean-up and removal of stop words\n",
    "def cleanUp(words):\n",
    "    # Create an empty list of \"clean words\"\n",
    "    cleanedStemmedWords = []\n",
    "    for word in words:\n",
    "        # Not commas periods and applause.\n",
    "        if word not in [\n",
    "                \",\",\n",
    "                \".\",\n",
    "                \"``\",\n",
    "                \"''\",\n",
    "                \";\",\n",
    "                \"?\",\n",
    "                \"--\",\n",
    "                \")\",\n",
    "                \"(\",\n",
    "                \":\",\n",
    "                \"!\",\n",
    "                \"applaus\"\n",
    "            ] and len(word) > 4 and word not in stop_words:\n",
    "                cleanedStemmedWords.append(word.lower())\n",
    "    # Return the \"cleaned dataset\"\n",
    "    return cleanedStemmedWords\n",
    "    \n",
    "fileIds = state_union.fileids()\n",
    "firstDocument = fileIds[0]\n",
    "# Set up the text to tokenize\n",
    "currentDocument = state_union.raw(firstDocument)  \n",
    "\n",
    "plotFrequencies(currentDocument)"
   ]
  },
  {
   "cell_type": "code",
   "execution_count": null,
   "metadata": {},
   "outputs": [],
   "source": [
    "# Now for all the documents\n",
    "fileIds = state_union.fileids()\n",
    "\n",
    "for i in range(len(fileIds)):\n",
    "    \n",
    "    selectedDocument = fileIds[i - 1]\n",
    "    # Set up the text to tokenize\n",
    "    currentDocument = state_union.raw(selectedDocument)  \n",
    "    # Plot etc.\n",
    "    print('#######################')\n",
    "    print('Distributions of the ' + fileIds[i-1] + ' Speech.')\n",
    "    print('#######################')\n",
    "    plotFrequencies(currentDocument)\n",
    "\n",
    "\n"
   ]
  },
  {
   "cell_type": "code",
   "execution_count": null,
   "metadata": {},
   "outputs": [],
   "source": [
    "# Join all the documents together\n",
    "\n",
    "# Define where are we going to store the corpus\n",
    "#stateUnion_corpus = []\n",
    "# Get a list of all the titles of the different documents on the corpus\n",
    "#texts = state_union.fileids()\n",
    "\n",
    "# Append them into the stateUnion_corpus\n",
    "#for i in texts:\n",
    "#    stateUnion_corpus.append(state_union.raw(i))\n"
   ]
  },
  {
   "cell_type": "code",
   "execution_count": null,
   "metadata": {},
   "outputs": [],
   "source": [
    "# Import the vectorizer\n",
    "#from sklearn.feature_extraction.text import TfidfVectorizer\n",
    "\n",
    "# Create an instance of the Vectorizer\n",
    "#vectorizer = TfidfVectorizer(min_df=1, stop_words=\"english\",norm=None)\n",
    "# Fit the state of the union corpus\n",
    "#X = vectorizer.fit_transform(stateUnion_corpus)\n",
    "\n",
    "#print (vectorizer.get_feature_names())\n",
    "# Do the Term Frequency, Document frequency\n",
    "# @param tf: term frequency\n",
    "# @param df: document frequency\n",
    "# @param N: number of documents\n",
    "\n",
    "#import numpy\n",
    "#numpy.around(X.toarray(),1)\n"
   ]
  },
  {
   "cell_type": "code",
   "execution_count": null,
   "metadata": {},
   "outputs": [],
   "source": [
    "#XA = X.toarray()\n",
    "#for row in XA:\n",
    "#    n = 18\n",
    "#    top_n_tfidf = (row.argsort()[-n:][::-1])    \n",
    "#    for idx in top_n_tfidf:\n",
    "#        print (vectorizer.get_feature_names()[idx] + \"> \" + str(row[idx]))\n",
    "#    print ()\n",
    "        "
   ]
  },
  {
   "cell_type": "code",
   "execution_count": null,
   "metadata": {},
   "outputs": [],
   "source": []
  }
 ],
 "metadata": {
  "kernelspec": {
   "display_name": "Python 3",
   "language": "python",
   "name": "python3"
  },
  "language_info": {
   "codemirror_mode": {
    "name": "ipython",
    "version": 3
   },
   "file_extension": ".py",
   "mimetype": "text/x-python",
   "name": "python",
   "nbconvert_exporter": "python",
   "pygments_lexer": "ipython3",
   "version": "3.7.0"
  }
 },
 "nbformat": 4,
 "nbformat_minor": 2
}
