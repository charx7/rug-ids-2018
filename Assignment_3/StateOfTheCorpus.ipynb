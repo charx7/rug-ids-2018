{
 "cells": [
  {
   "cell_type": "code",
   "execution_count": 141,
   "metadata": {},
   "outputs": [
    {
     "name": "stdout",
     "output_type": "stream",
     "text": [
      "Im Working\n"
     ]
    }
   ],
   "source": [
    "# Check for working notebook\n",
    "print('Im Working')"
   ]
  },
  {
   "cell_type": "code",
   "execution_count": 148,
   "metadata": {},
   "outputs": [
    {
     "name": "stdout",
     "output_type": "stream",
     "text": [
      "[nltk_data] Downloading package state_union to\n",
      "[nltk_data]     C:\\Users\\Charx\\AppData\\Roaming\\nltk_data...\n",
      "[nltk_data]   Package state_union is already up-to-date!\n",
      "[nltk_data] Downloading package stopwords to\n",
      "[nltk_data]     C:\\Users\\Charx\\AppData\\Roaming\\nltk_data...\n",
      "[nltk_data]   Package stopwords is already up-to-date!\n",
      "[nltk_data] Downloading package punkt to\n",
      "[nltk_data]     C:\\Users\\Charx\\AppData\\Roaming\\nltk_data...\n",
      "[nltk_data]   Package punkt is already up-to-date!\n",
      "\n",
      "\n",
      "\n",
      "The fields are: \n",
      "['1945-Truman.txt', '1946-Truman.txt', '1947-Truman.txt', '1948-Truman.txt', '1949-Truman.txt', '1950-Truman.txt', '1951-Truman.txt', '1953-Eisenhower.txt', '1954-Eisenhower.txt', '1955-Eisenhower.txt', '1956-Eisenhower.txt', '1957-Eisenhower.txt', '1958-Eisenhower.txt', '1959-Eisenhower.txt', '1960-Eisenhower.txt', '1961-Kennedy.txt', '1962-Kennedy.txt', '1963-Johnson.txt', '1963-Kennedy.txt', '1964-Johnson.txt', '1965-Johnson-1.txt', '1965-Johnson-2.txt', '1966-Johnson.txt', '1967-Johnson.txt', '1968-Johnson.txt', '1969-Johnson.txt', '1970-Nixon.txt', '1971-Nixon.txt', '1972-Nixon.txt', '1973-Nixon.txt', '1974-Nixon.txt', '1975-Ford.txt', '1976-Ford.txt', '1977-Ford.txt', '1978-Carter.txt', '1979-Carter.txt', '1980-Carter.txt', '1981-Reagan.txt', '1982-Reagan.txt', '1983-Reagan.txt', '1984-Reagan.txt', '1985-Reagan.txt', '1986-Reagan.txt', '1987-Reagan.txt', '1988-Reagan.txt', '1989-Bush.txt', '1990-Bush.txt', '1991-Bush-1.txt', '1991-Bush-2.txt', '1992-Bush.txt', '1993-Clinton.txt', '1994-Clinton.txt', '1995-Clinton.txt', '1996-Clinton.txt', '1997-Clinton.txt', '1998-Clinton.txt', '1999-Clinton.txt', '2000-Clinton.txt', '2001-GWBush-1.txt', '2001-GWBush-2.txt', '2002-GWBush.txt', '2003-GWBush.txt', '2004-GWBush.txt', '2005-GWBush.txt', '2006-GWBush.txt']\n"
     ]
    }
   ],
   "source": [
    "# NLTK imports\n",
    "import nltk\n",
    "from nltk.corpus import webtext\n",
    "from nltk.corpus import state_union\n",
    "import numpy as np\n",
    "nltk.download('state_union')\n",
    "nltk.download('stopwords')\n",
    "nltk.download('punkt')\n",
    "\n",
    "print(\"\\n\\n\")\n",
    "print('The fields are: ')\n",
    "print(state_union.fileids())"
   ]
  },
  {
   "cell_type": "markdown",
   "metadata": {},
   "source": [
    "## Stemming\n",
    "### Using a porter tokenizer\n",
    "First we are going to be using the Porter tokenizer to compute the word frequencies we are going to be using the 2005 State of the Union speech from GW. Bush\n"
   ]
  },
  {
   "cell_type": "code",
   "execution_count": 153,
   "metadata": {},
   "outputs": [
    {
     "name": "stdout",
     "output_type": "stream",
     "text": [
      "The most common stemmed words are: \n",
      "('secur', 32)\n",
      "('freedom', 21)\n",
      "('america', 20)\n",
      "('nation', 19)\n",
      "('countri', 19)\n",
      "('american', 18)\n",
      "('govern', 18)\n",
      "('social', 18)\n",
      "('peopl', 18)\n",
      "('congress', 16)\n"
     ]
    },
    {
     "data": {
      "image/png": "[encoded data removed]",
      "text/plain": [
       "<Figure size 432x288 with 1 Axes>"
      ]
     },
     "metadata": {
      "needs_background": "light"
     },
     "output_type": "display_data"
    }
   ],
   "source": [
    "# Porter Stemming\n",
    "from nltk.stem.porter import *\n",
    "from nltk import word_tokenize\n",
    "from nltk.corpus import stopwords \n",
    "\n",
    "# Set up the text to tokenize\n",
    "bushUnion = state_union.raw('2005-GWBush.txt')  \n",
    "\n",
    "# Define tokenization of the words\n",
    "words = word_tokenize(bushUnion)\n",
    "\n",
    "# Create an instance of the porter stemmer\n",
    "stemmer = PorterStemmer()\n",
    "\n",
    "# Steam the words\n",
    "stemmedwords = [stemmer.stem(word) for word in words]\n",
    "\n",
    "# Frequency distribution of the speech\n",
    "#words = [word for word in state_union.words(text)]\n",
    "#frequencies = nltk.FreqDist([w for w in words if len(w) > 4 and w.lower() == w])\n",
    "\n",
    "# Set-up remove of stop words\n",
    "stop_words = set(stopwords.words('english')) \n",
    "\n",
    "# Cleanup of the stemmed words\n",
    "cleanedStemmedWords = []\n",
    "for word in stemmedwords:\n",
    "    # Not commas periods and applause.\n",
    "    if word not in [\n",
    "            \",\",\n",
    "            \".\",\n",
    "            \"``\",\n",
    "            \"''\",\n",
    "            \";\",\n",
    "            \"?\",\n",
    "            \"--\",\n",
    "            \")\",\n",
    "            \"(\",\n",
    "            \":\",\n",
    "            \"!\",\n",
    "            \"applaus\"\n",
    "        ] and len(word) > 4 and word not in stop_words:\n",
    "            cleanedStemmedWords.append(word.lower())\n",
    "            \n",
    "# word frequencies of the not steemed document\n",
    "#frequencies = nltk.FreqDist(stemmedwords)\n",
    "\n",
    "#for e in frequencies.most_common(10):\n",
    "#    print (e)\n",
    "#frequencies.plot(10)\n",
    "\n",
    "# Perform the frequencies on the cleaned dataset\n",
    "cleanedFrequencies = nltk.FreqDist(cleanedStemmedWords)\n",
    "print('The most common stemmed words are: ')\n",
    "for e in cleanedFrequencies.most_common(10):\n",
    "    print (e)\n",
    "cleanedFrequencies.plot(10)\n"
   ]
  },
  {
   "cell_type": "markdown",
   "metadata": {},
   "source": [
    "## Zipf's law Verification\n",
    "Plot the distribution vs the rank on a log-log scale."
   ]
  },
  {
   "cell_type": "code",
   "execution_count": 238,
   "metadata": {},
   "outputs": [
    {
     "name": "stdout",
     "output_type": "stream",
     "text": [
      "[1.         1.         1.         3.63905733 3.89037176 1.69314718\n",
      " 1.         2.09861229 1.69314718 1.         1.         1.\n",
      " 1.         2.09861229 2.38629436 1.         1.         1.\n",
      " 1.         1.69314718 1.         2.09861229 1.         1.\n",
      " 1.69314718 1.         1.         2.38629436 1.69314718 2.09861229\n",
      " 1.69314718 1.         1.         2.09861229 1.         1.\n",
      " 2.79175947 1.         1.         1.69314718 1.         1.\n",
      " 1.         1.         2.60943791 1.         1.         1.\n",
      " 1.         1.         2.60943791 1.         1.         2.79175947\n",
      " 1.69314718 1.         1.         3.48490665 1.69314718 1.69314718\n",
      " 1.         1.         3.48490665 1.         1.         1.69314718\n",
      " 1.         1.         1.         1.         1.         1.\n",
      " 1.         1.         2.09861229 2.09861229 1.         1.69314718\n",
      " 2.09861229 2.09861229 2.09861229 1.69314718 1.         1.69314718\n",
      " 1.         1.         1.         2.09861229 1.69314718 1.69314718\n",
      " 1.         1.         2.09861229 1.         1.         2.60943791\n",
      " 2.38629436 1.         3.30258509 1.         1.         1.\n",
      " 3.99573227 1.         1.         1.69314718 1.         1.69314718\n",
      " 2.38629436 1.         1.         1.         1.         1.\n",
      " 2.09861229 2.60943791 1.69314718 2.94591015 1.         1.\n",
      " 1.         1.         1.         1.         1.         2.79175947\n",
      " 2.38629436 1.69314718 1.         1.         1.69314718 3.89037176\n",
      " 1.         1.         2.09861229 1.         1.         1.\n",
      " 1.         1.         1.         1.69314718 2.38629436 2.38629436\n",
      " 2.09861229 1.69314718 1.         1.         1.         1.\n",
      " 1.         1.         1.         1.         1.         2.09861229\n",
      " 2.09861229 1.         2.60943791 1.         1.         2.09861229\n",
      " 1.         1.         2.79175947 2.38629436 1.         1.\n",
      " 1.         2.38629436 1.         1.         1.         1.\n",
      " 2.38629436 2.09861229 1.         1.         1.         1.\n",
      " 1.69314718 1.         1.         2.60943791 2.09861229 1.69314718\n",
      " 1.         1.         1.         1.         1.         1.\n",
      " 1.         1.         1.         1.69314718 1.         1.\n",
      " 1.         2.38629436 1.         2.38629436 1.69314718 2.38629436\n",
      " 2.09861229 1.69314718 1.         1.69314718 1.         1.\n",
      " 1.         2.09861229 1.         1.         1.         1.\n",
      " 3.39789527 1.         1.         1.         1.69314718 1.\n",
      " 1.         1.         1.         1.         1.         2.09861229\n",
      " 1.         1.         1.         2.94591015 1.         1.\n",
      " 1.69314718 1.         1.69314718 1.         1.         2.79175947\n",
      " 1.         1.69314718 1.69314718 1.         1.         1.\n",
      " 1.         2.09861229 1.69314718 1.         1.69314718 1.\n",
      " 1.69314718 1.         1.69314718 1.         2.09861229 1.\n",
      " 1.         1.         1.         1.         2.09861229 1.\n",
      " 1.69314718 1.         1.         1.         1.         2.09861229\n",
      " 1.69314718 1.         1.69314718 1.         1.         1.\n",
      " 2.94591015 1.         1.         1.         1.         1.\n",
      " 1.         2.79175947 2.09861229 2.94591015 1.69314718 1.69314718\n",
      " 3.39789527 1.         1.         2.09861229 1.         1.\n",
      " 1.69314718 2.09861229 2.38629436 1.         1.         1.\n",
      " 1.         1.         1.         1.69314718 3.19722458 1.\n",
      " 2.09861229 1.         1.         1.69314718 1.69314718 1.\n",
      " 3.19722458 1.         1.69314718 2.38629436 2.09861229 1.\n",
      " 2.60943791 1.         1.         1.69314718 2.09861229 1.\n",
      " 1.         1.69314718 2.09861229 1.         1.         1.\n",
      " 1.         1.         1.         1.         2.09861229 1.\n",
      " 1.         1.         2.38629436 1.69314718 1.         3.30258509\n",
      " 1.         1.         1.         2.09861229 1.         2.09861229\n",
      " 1.         1.69314718 2.79175947 1.         2.09861229 1.\n",
      " 1.69314718 4.04452244 1.69314718 1.         2.09861229 3.94443898\n",
      " 1.         1.         1.         1.         1.         2.09861229\n",
      " 1.         1.         1.         1.         1.69314718 1.\n",
      " 2.09861229 3.77258872 2.09861229 1.69314718 1.         1.\n",
      " 1.         1.69314718 3.63905733 1.         1.         1.69314718\n",
      " 1.         1.         1.69314718 2.60943791 1.         1.\n",
      " 1.         2.38629436 1.         1.         1.         1.\n",
      " 2.60943791 1.         1.69314718 2.09861229 1.         1.69314718\n",
      " 1.         1.         1.         1.         1.69314718 1.\n",
      " 1.         1.         1.69314718 2.60943791 1.         2.94591015\n",
      " 1.         2.38629436 2.94591015 1.         1.         1.\n",
      " 2.09861229 1.         4.4657359  1.69314718 1.69314718 1.\n",
      " 1.         1.         1.         1.         3.56494936 1.\n",
      " 1.69314718 1.         1.69314718 1.         1.         2.38629436\n",
      " 1.         1.         1.69314718 1.69314718 3.19722458 1.\n",
      " 2.09861229 1.         1.         2.79175947 2.09861229 1.\n",
      " 3.63905733 2.09861229 2.38629436 1.         1.         1.\n",
      " 2.94591015 1.69314718 1.         1.69314718 3.56494936 2.09861229\n",
      " 1.         3.07944154 1.         1.         1.         1.69314718\n",
      " 1.         1.69314718 1.69314718 1.         1.69314718 1.69314718\n",
      " 1.         1.         1.         1.         1.         1.\n",
      " 1.         1.         1.69314718 1.69314718 1.         1.\n",
      " 1.         1.69314718 1.         1.69314718 1.69314718 2.09861229\n",
      " 1.         2.60943791 2.09861229 1.69314718 1.69314718 1.\n",
      " 1.         1.         1.69314718 3.19722458 1.         1.\n",
      " 1.         1.         1.         2.79175947 1.         1.\n",
      " 1.         2.38629436 1.         1.         1.         1.\n",
      " 1.69314718 1.69314718 1.         1.         1.         1.69314718\n",
      " 1.         1.         2.60943791 3.56494936 1.         1.\n",
      " 1.         2.79175947 2.09861229 1.         3.7080502  1.69314718\n",
      " 1.         1.69314718 1.69314718 1.69314718 1.69314718 1.69314718\n",
      " 1.         1.         1.         2.09861229 1.69314718 1.\n",
      " 2.79175947 2.79175947 1.69314718 1.         1.         1.\n",
      " 3.63905733 2.09861229 1.         1.69314718 1.69314718 2.09861229\n",
      " 1.         2.94591015 1.         2.60943791 2.09861229 1.\n",
      " 1.69314718 2.60943791 1.69314718 1.         1.         1.\n",
      " 1.         2.38629436 1.         1.         1.         2.38629436\n",
      " 1.         2.60943791 1.         1.69314718 1.69314718 1.69314718\n",
      " 2.38629436 1.         1.         1.69314718 1.         1.\n",
      " 3.07944154 3.7080502  1.         1.         1.         1.\n",
      " 2.09861229 1.         1.69314718 1.         1.         3.48490665\n",
      " 3.30258509 1.         3.7080502  1.         1.         1.\n",
      " 1.         1.         1.         1.         1.         1.\n",
      " 1.         1.         1.         1.69314718 1.         1.\n",
      " 1.         1.         1.69314718 3.89037176 1.         1.\n",
      " 1.         1.         1.         1.         1.         1.\n",
      " 1.         1.         2.09861229 1.69314718 1.         1.\n",
      " 1.         1.         1.         1.         1.         1.69314718\n",
      " 1.         1.69314718 1.         1.         1.69314718 1.\n",
      " 1.         1.         1.         1.         1.69314718 1.\n",
      " 1.         1.         1.         2.09861229 1.         2.38629436\n",
      " 1.         1.         1.         1.         1.         2.09861229\n",
      " 1.         1.         1.         1.         1.69314718 3.39789527\n",
      " 1.         1.69314718 1.         1.         1.         2.79175947\n",
      " 3.94443898 1.         1.         1.         1.         2.09861229\n",
      " 1.         2.94591015 1.         1.         2.09861229 2.38629436\n",
      " 2.09861229 1.         1.         2.09861229 1.69314718 1.69314718\n",
      " 1.         1.         1.         1.         1.         1.\n",
      " 1.69314718 1.69314718 1.         1.         1.         1.\n",
      " 1.         1.         1.         1.         1.         2.09861229\n",
      " 1.         1.         2.38629436 1.         1.         3.89037176\n",
      " 1.         1.         1.         1.         1.         1.69314718\n",
      " 1.         2.94591015 1.69314718 1.         1.69314718 2.09861229\n",
      " 1.         1.         1.         1.69314718 1.         1.\n",
      " 1.         2.09861229 1.69314718 1.69314718 1.         1.\n",
      " 1.         1.         1.         1.69314718 1.         2.60943791\n",
      " 1.69314718 1.         2.09861229 2.09861229 1.         1.\n",
      " 2.09861229 1.         1.         2.09861229 1.         1.\n",
      " 2.38629436 1.         1.         2.09861229 1.         2.60943791\n",
      " 1.         2.09861229 1.         1.         2.38629436 1.69314718\n",
      " 1.         1.69314718 1.69314718 1.         2.94591015 1.\n",
      " 1.         1.         1.         1.         1.         1.\n",
      " 2.09861229 1.         2.38629436 1.         1.         2.38629436\n",
      " 1.69314718 1.         2.60943791 1.         1.         1.\n",
      " 1.         1.         1.         3.39789527 1.         1.69314718\n",
      " 2.09861229 1.         1.69314718 1.         1.         1.69314718\n",
      " 2.09861229 1.         2.09861229 1.         2.38629436 1.69314718\n",
      " 1.         1.         1.         1.         1.69314718]\n"
     ]
    },
    {
     "data": {
      "image/png": "[encoded data removed]",
      "text/plain": [
       "<Figure size 432x288 with 1 Axes>"
      ]
     },
     "metadata": {
      "needs_background": "light"
     },
     "output_type": "display_data"
    },
    {
     "data": {
      "image/png": "[encoded data removed]",
      "text/plain": [
       "<Figure size 432x288 with 1 Axes>"
      ]
     },
     "metadata": {
      "needs_background": "light"
     },
     "output_type": "display_data"
    }
   ],
   "source": [
    "from nltk.probability import DictionaryProbDist\n",
    "import matplotlib.pyplot as plt\n",
    "\n",
    "\n",
    "# Using the log transformation\n",
    "logCleanedFrequencies = DictionaryProbDist(cleanedFrequencies)\n",
    "logCleanedFrequencies.logprob('secur')\n",
    "\n",
    "\n",
    "lenght_of_document= len(cleanedStemmedWords)\n",
    "# Empty object\n",
    "arrayFormFrequencies = []\n",
    "for key in cleanedFrequencies:\n",
    "    arrayFormFrequencies.append(cleanedFrequencies[key]) \n",
    "\n",
    "# Log of the frequencies\n",
    "logArrayFormFrequencies = np.log(arrayFormFrequencies)+1\n",
    "\n",
    "print(logArrayFormFrequencies)\n",
    "# Plot of freq\n",
    "n, bins, patches = plt.hist(arrayFormFrequencies, 20, density=True, facecolor='green', alpha=0.55)\n",
    "plt.show()\n",
    "# Log of freq\n",
    "n, bins, patches = plt.hist(logArrayFormFrequencies, 30, density=True, facecolor='green', alpha=0.55)\n",
    "plt.show()\n",
    "\n",
    "\n"
   ]
  },
  {
   "cell_type": "code",
   "execution_count": 145,
   "metadata": {
    "scrolled": true
   },
   "outputs": [
    {
     "name": "stdout",
     "output_type": "stream",
     "text": [
      "\n",
      "\n",
      "2005-GWBush.txt\n",
      "('their', 24)\n",
      "('freedom', 20)\n",
      "('people', 18)\n",
      "('country', 17)\n",
      "('world', 15)\n",
      "('terror', 14)\n",
      "('workers', 14)\n",
      "('government', 13)\n",
      "('system', 13)\n",
      "('benefits', 12)\n"
     ]
    },
    {
     "data": {
      "image/png": "[encoded data removed]",
      "text/plain": [
       "<Figure size 432x288 with 1 Axes>"
      ]
     },
     "metadata": {
      "needs_background": "light"
     },
     "output_type": "display_data"
    },
    {
     "name": "stdout",
     "output_type": "stream",
     "text": [
      "\n",
      "\n",
      "2006-GWBush.txt\n",
      "('world', 27)\n",
      "('people', 22)\n",
      "('their', 20)\n",
      "('freedom', 17)\n",
      "('nation', 17)\n",
      "('country', 17)\n",
      "('economy', 16)\n",
      "('about', 13)\n",
      "('because', 12)\n",
      "('years', 11)\n"
     ]
    },
    {
     "data": {
      "image/png": "[encoded data removed]",
      "text/plain": [
       "<Figure size 432x288 with 1 Axes>"
      ]
     },
     "metadata": {
      "needs_background": "light"
     },
     "output_type": "display_data"
    }
   ],
   "source": [
    "# Display all the words\n",
    "texts = ['2005-GWBush.txt', '2006-GWBush.txt']\n",
    "for text in texts:\n",
    "    print(\"\\n\\n\" + text)\n",
    "    words = [word for word in state_union.words(text)]\n",
    "    \n",
    "    frequencies = nltk.FreqDist([w for w in words if len(w) > 4 and w.lower() == w])\n",
    "    for e in frequencies.most_common(10):\n",
    "        print (e)\n",
    "    frequencies.plot(10)"
   ]
  },
  {
   "cell_type": "code",
   "execution_count": 170,
   "metadata": {},
   "outputs": [],
   "source": [
    "# Join all the documents together\n",
    "\n",
    "# Define where are we going to store the corpus\n",
    "stateUnion_corpus = []\n",
    "# Get a list of all the titles of the different documents on the corpus\n",
    "texts = state_union.fileids()\n",
    "\n",
    "# Append them into the stateUnion_corpus\n",
    "for i in texts:\n",
    "    stateUnion_corpus.append(state_union.raw(i))\n"
   ]
  },
  {
   "cell_type": "code",
   "execution_count": 169,
   "metadata": {},
   "outputs": [
    {
     "data": {
      "text/plain": [
       "array([[ 0. ,  0. ,  0. , ...,  0. ,  0. ,  0. ],\n",
       "       [19.4,  0. ,  4.5, ...,  0. ,  0. ,  0. ],\n",
       "       [ 5.5,  0. ,  0. , ...,  0. ,  0. ,  0. ],\n",
       "       ...,\n",
       "       [ 2.8,  0. ,  0. , ...,  0. ,  0. ,  0. ],\n",
       "       [ 1.4,  0. ,  0. , ...,  0. ,  0. ,  0. ],\n",
       "       [ 4.1,  0. ,  0. , ...,  0. ,  0. ,  0. ]])"
      ]
     },
     "execution_count": 169,
     "metadata": {},
     "output_type": "execute_result"
    }
   ],
   "source": [
    "# Import the vectorizer\n",
    "from sklearn.feature_extraction.text import TfidfVectorizer\n",
    "\n",
    "# Create an instance of the Vectorizer\n",
    "vectorizer = TfidfVectorizer(min_df=1, stop_words=\"english\",norm=None)\n",
    "# Fit the state of the union corpus\n",
    "X = vectorizer.fit_transform(stateUnion_corpus)\n",
    "\n",
    "#print (vectorizer.get_feature_names())\n",
    "# Do the Term Frequency, Document frequency\n",
    "# @param tf: term frequency\n",
    "# @param df: document frequency\n",
    "# @param N: number of documents\n",
    "\n",
    "import numpy\n",
    "numpy.around(X.toarray(),1)\n"
   ]
  },
  {
   "cell_type": "code",
   "execution_count": 61,
   "metadata": {},
   "outputs": [],
   "source": [
    "#XA = X.toarray()\n",
    "#for row in XA:\n",
    "#    n = 18\n",
    "#    top_n_tfidf = (row.argsort()[-n:][::-1])    \n",
    "#    for idx in top_n_tfidf:\n",
    "#        print (vectorizer.get_feature_names()[idx] + \"> \" + str(row[idx]))\n",
    "#    print ()\n",
    "        "
   ]
  },
  {
   "cell_type": "code",
   "execution_count": null,
   "metadata": {},
   "outputs": [],
   "source": []
  }
 ],
 "metadata": {
  "kernelspec": {
   "display_name": "Python 3",
   "language": "python",
   "name": "python3"
  },
  "language_info": {
   "codemirror_mode": {
    "name": "ipython",
    "version": 3
   },
   "file_extension": ".py",
   "mimetype": "text/x-python",
   "name": "python",
   "nbconvert_exporter": "python",
   "pygments_lexer": "ipython3",
   "version": "3.5.6"
  }
 },
 "nbformat": 4,
 "nbformat_minor": 2
}
