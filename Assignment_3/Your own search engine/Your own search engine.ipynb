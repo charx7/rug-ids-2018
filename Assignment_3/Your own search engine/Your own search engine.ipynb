{
 "cells": [
  {
   "cell_type": "code",
   "execution_count": null,
   "metadata": {},
   "outputs": [],
   "source": [
    "# # Check for working notebook\n",
    "print('Im Working')"
   ]
  },
  {
   "cell_type": "markdown",
   "metadata": {},
   "source": [
    "Reading corpus, english stopwords and punctuation."
   ]
  },
  {
   "cell_type": "code",
   "execution_count": null,
   "metadata": {},
   "outputs": [],
   "source": [
    "# NLTK imports\n",
    "import nltk\n",
    "from nltk.corpus import webtext\n",
    "from nltk.corpus import state_union\n",
    "import numpy as np\n",
    "nltk.download('state_union')\n",
    "nltk.download('stopwords')\n",
    "nltk.download('punkt')\n",
    "nltk.download('wordnet')\n",
    "\n",
    "print(\"\\n\\n\")\n",
    "print('The fields are: ')\n",
    "print(state_union.fileids())"
   ]
  },
  {
   "cell_type": "markdown",
   "metadata": {},
   "source": [
    "Tokenizing, cleaning and POS tagging the words in the text."
   ]
  },
  {
   "cell_type": "code",
   "execution_count": null,
   "metadata": {},
   "outputs": [],
   "source": [
    "# Tokenization & POS tagging\n",
    "from nltk import word_tokenize\n",
    "from nltk.corpus import stopwords \n",
    "\n",
    "# Set up the text to tokenize\n",
    "bushUnion = state_union.raw('2005-GWBush.txt')  \n",
    "\n",
    "# Define tokenization of the words\n",
    "words = word_tokenize(bushUnion)\n",
    "\n",
    "# Set-up remove of stop words\n",
    "stop_words = set(stopwords.words('english')) \n",
    "\n",
    "# Cleanup of the words\n",
    "cleanedWords = []\n",
    "for word in words:\n",
    "    # Not commas periods and applause.\n",
    "    if word not in [\n",
    "            \",\",\n",
    "            \".\",\n",
    "            \"``\",\n",
    "            \"''\",\n",
    "            \";\",\n",
    "            \"?\",\n",
    "            \"--\",\n",
    "            \")\",\n",
    "            \"(\",\n",
    "            \":\",\n",
    "            \"!\",\n",
    "            \"applaus\"\n",
    "        ] and len(word) > 4 and word not in stop_words:\n",
    "            cleanedWords.append(word.lower())\n",
    "\n",
    "# apply POS tagging to the words\n",
    "pos_tagged_words = nltk.pos_tag(cleanedWords)\n",
    "\n",
    "print(pos_tagged_words)"
   ]
  },
  {
   "cell_type": "markdown",
   "metadata": {},
   "source": [
    "Lemmatization of the text."
   ]
  },
  {
   "cell_type": "code",
   "execution_count": null,
   "metadata": {},
   "outputs": [],
   "source": [
    "# Lemmatisation\n",
    "from nltk.stem import WordNetLemmatizer\n",
    "\n",
    "# Initializing leematizer\n",
    "wordnet_lemmatizer = WordNetLemmatizer()\n",
    "\n",
    "lemmatized_words = wordnet_lemmatizer.lemmatize('weeks')"
   ]
  },
  {
   "cell_type": "code",
   "execution_count": null,
   "metadata": {},
   "outputs": [],
   "source": []
  }
 ],
 "metadata": {
  "kernelspec": {
   "display_name": "Python 2",
   "language": "python",
   "name": "python2"
  },
  "language_info": {
   "codemirror_mode": {
    "name": "ipython",
    "version": 2
   },
   "file_extension": ".py",
   "mimetype": "text/x-python",
   "name": "python",
   "nbconvert_exporter": "python",
   "pygments_lexer": "ipython2",
   "version": "2.7.15"
  }
 },
 "nbformat": 4,
 "nbformat_minor": 2
}
